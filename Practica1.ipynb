{
  "nbformat": 4,
  "nbformat_minor": 0,
  "metadata": {
    "colab": {
      "provenance": [],
      "authorship_tag": "ABX9TyNIUtxGB8xS3bu8VwCQsYro",
      "include_colab_link": true
    },
    "kernelspec": {
      "name": "python3",
      "display_name": "Python 3"
    },
    "language_info": {
      "name": "python"
    }
  },
  "cells": [
    {
      "cell_type": "markdown",
      "metadata": {
        "id": "view-in-github",
        "colab_type": "text"
      },
      "source": [
        "<a href=\"https://colab.research.google.com/github/Wicho142/Wicho142/blob/main/Practica1.ipynb\" target=\"_parent\"><img src=\"https://colab.research.google.com/assets/colab-badge.svg\" alt=\"Open In Colab\"/></a>"
      ]
    },
    {
      "cell_type": "code",
      "execution_count": null,
      "metadata": {
        "colab": {
          "base_uri": "https://localhost:8080/"
        },
        "id": "w83sk8EN_1Aj",
        "outputId": "ef1c1bc7-d00d-454e-b816-e695523d11ac"
      },
      "outputs": [
        {
          "output_type": "stream",
          "name": "stdout",
          "text": [
            "First: 10.4\n",
            "Second: 10\n",
            "20.4\n"
          ]
        }
      ],
      "source": [
        "first = float(input('First: '))\n",
        "second = float(input('Second: '))\n",
        "sum = first + second\n",
        "print(sum)"
      ]
    },
    {
      "cell_type": "code",
      "source": [
        "course = 'Python for Biginners'\n",
        "print (course.upper())\n"
      ],
      "metadata": {
        "colab": {
          "base_uri": "https://localhost:8080/"
        },
        "id": "2Jc0CjsIAWcj",
        "outputId": "798b01c2-3a2e-441a-9b08-fb439c75e2b7"
      },
      "execution_count": null,
      "outputs": [
        {
          "output_type": "stream",
          "name": "stdout",
          "text": [
            "PYTHON FOR BIGINNERS\n"
          ]
        }
      ]
    },
    {
      "cell_type": "code",
      "source": [
        "print(course)"
      ],
      "metadata": {
        "colab": {
          "base_uri": "https://localhost:8080/"
        },
        "id": "20FiF0WQD_zA",
        "outputId": "93544b89-5f98-4794-f38c-317ebe5efe05"
      },
      "execution_count": null,
      "outputs": [
        {
          "output_type": "stream",
          "name": "stdout",
          "text": [
            "Python for Biginners\n"
          ]
        }
      ]
    },
    {
      "cell_type": "code",
      "source": [
        "print (course.find('y'))"
      ],
      "metadata": {
        "colab": {
          "base_uri": "https://localhost:8080/"
        },
        "id": "pFAYJhhjEOVg",
        "outputId": "d3165105-7879-4ec3-c89f-d50d90df9276"
      },
      "execution_count": null,
      "outputs": [
        {
          "output_type": "stream",
          "name": "stdout",
          "text": [
            "1\n"
          ]
        }
      ]
    },
    {
      "cell_type": "code",
      "source": [
        "temperature = 5\n",
        "if temperature > 30:\n",
        "    print (\"It's a hot day\")\n",
        "    print (\"Drink plenty of water\")\n",
        "elif temperature > 20:\n",
        "    print (\"It's a nice day\")\n",
        "elif temperature > 10:\n",
        "    print(\"It's a bit cold\")\n",
        "else:\n",
        "    print(\"It's cold\")\n",
        "print(\"Done\")"
      ],
      "metadata": {
        "colab": {
          "base_uri": "https://localhost:8080/"
        },
        "id": "LbGatlgmEfSH",
        "outputId": "b743c23a-18b5-4d29-fef8-4e5d650cebb2"
      },
      "execution_count": null,
      "outputs": [
        {
          "output_type": "stream",
          "name": "stdout",
          "text": [
            "It's cold\n",
            "Done\n"
          ]
        }
      ]
    },
    {
      "cell_type": "code",
      "source": [
        "weight = int(input(\"Weight: \"))\n",
        "unit = input(\"(K)g or (L)bs: \")\n",
        "if unit.upper() == \"K\":\n",
        "    converted = weight / 0.45\n",
        "    print(\"Weight in Lbs: \" + str(converted))\n",
        "else:\n",
        "    converted = weight * 0.45\n",
        "    print(\"Weight in Kgr: \" + str(converted))"
      ],
      "metadata": {
        "colab": {
          "base_uri": "https://localhost:8080/"
        },
        "id": "38RH7PgsIUBq",
        "outputId": "854185d8-9bb3-4b46-b50b-6bbeb6dedf7b"
      },
      "execution_count": null,
      "outputs": [
        {
          "output_type": "stream",
          "name": "stdout",
          "text": [
            "Weight: 76\n",
            "(K)g or (L)bs: k\n",
            "Weight in Lbs: 168.88888888888889\n"
          ]
        }
      ]
    },
    {
      "cell_type": "code",
      "source": [
        "i = 1\n",
        "while i <=10:\n",
        "    print(i * '*')\n",
        "    i = i+1"
      ],
      "metadata": {
        "colab": {
          "base_uri": "https://localhost:8080/"
        },
        "id": "ZwkFia06NF8C",
        "outputId": "935c78d4-2ef9-448e-fec8-8c8fd8de727b"
      },
      "execution_count": null,
      "outputs": [
        {
          "output_type": "stream",
          "name": "stdout",
          "text": [
            "*\n",
            "**\n",
            "***\n",
            "****\n",
            "*****\n",
            "******\n",
            "*******\n",
            "********\n",
            "*********\n",
            "**********\n"
          ]
        }
      ]
    },
    {
      "cell_type": "code",
      "source": [
        "numero = int(input(\"Introduce el numero a multipicar: \"))\n",
        "i = 1\n",
        "while i <=10:\n",
        "    producto = i * numero\n",
        "    print(f\"{numero} x {i} = {producto}\")\n",
        "    i = i +1"
      ],
      "metadata": {
        "colab": {
          "base_uri": "https://localhost:8080/"
        },
        "id": "1_QVKzQ9XHnN",
        "outputId": "955036e3-2cf0-4e5c-f0b6-f61b0e1017ee"
      },
      "execution_count": null,
      "outputs": [
        {
          "output_type": "stream",
          "name": "stdout",
          "text": [
            "Introduce el numero a multipicar: 2\n",
            "2 x 1 = 2\n",
            "2 x 2 = 4\n",
            "2 x 3 = 6\n",
            "2 x 4 = 8\n",
            "2 x 5 = 10\n",
            "2 x 6 = 12\n",
            "2 x 7 = 14\n",
            "2 x 8 = 16\n",
            "2 x 9 = 18\n",
            "2 x 10 = 20\n"
          ]
        }
      ]
    },
    {
      "cell_type": "code",
      "source": [],
      "metadata": {
        "id": "WBhVTj-bbF5l"
      },
      "execution_count": null,
      "outputs": []
    }
  ]
}